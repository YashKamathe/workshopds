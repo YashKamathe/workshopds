{
  "cells": [
    {
      "cell_type": "markdown",
      "metadata": {
        "id": "view-in-github",
        "colab_type": "text"
      },
      "source": [
        "<a href=\"https://colab.research.google.com/github/YashKamathe/workshopds/blob/main/02_Python_Crash_Course_Exercises_sol.ipynb\" target=\"_parent\"><img src=\"https://colab.research.google.com/assets/colab-badge.svg\" alt=\"Open In Colab\"/></a>"
      ]
    },
    {
      "cell_type": "markdown",
      "metadata": {
        "id": "z_V_A8T_QJtp"
      },
      "source": [
        "___\n",
        "\n",
        "Mr. Yogesh P Murumkar (Mob. 9657080906)\n",
        "\n",
        "https://www.youtube.com/c/yogeshmurumkar\n",
        "___\n",
        "# Python Course Exercises 1\n",
        "\n",
        "This is an optional exercise to test your understanding of Python Basics. If you find this extremely challenging, then you probably are not ready for the rest of this course yet and don't have enough programming experience to continue. I would suggest you take another course more geared towards complete beginners."
      ]
    },
    {
      "cell_type": "markdown",
      "metadata": {
        "id": "xBGUpw8-QJtx"
      },
      "source": [
        "## Exercises\n",
        "\n",
        "Answer the questions or complete the tasks outlined in bold below, use the specific method described if applicable."
      ]
    },
    {
      "cell_type": "markdown",
      "metadata": {
        "id": "Tu4Ttsj0QJtz"
      },
      "source": [
        "** What is 7 to the power of 4?**"
      ]
    },
    {
      "cell_type": "code",
      "execution_count": 2,
      "metadata": {
        "colab": {
          "base_uri": "https://localhost:8080/"
        },
        "id": "cWIR4g_uQJt0",
        "outputId": "03fa4e45-1662-4d41-f23a-bada313ec569"
      },
      "outputs": [
        {
          "output_type": "stream",
          "name": "stdout",
          "text": [
            "2401\n"
          ]
        }
      ],
      "source": [
        "print(7**4)"
      ]
    },
    {
      "cell_type": "markdown",
      "metadata": {
        "id": "9elwvS6QQJt3"
      },
      "source": [
        "** Split this string:**\n",
        "\n",
        "    s = \"Hi there Yogesh!\"\n",
        "    \n",
        "**into a list. **"
      ]
    },
    {
      "cell_type": "code",
      "execution_count": 48,
      "metadata": {
        "colab": {
          "base_uri": "https://localhost:8080/"
        },
        "id": "56HyQIsxQJt5",
        "outputId": "2e23d706-2755-4774-a98d-7fa049b66294"
      },
      "outputs": [
        {
          "output_type": "stream",
          "name": "stdout",
          "text": [
            "['Hi', 'there', 'Yogesh!']\n"
          ]
        }
      ],
      "source": [
        "s = \"Hi there Yogesh!\"\n",
        "print(s.split())"
      ]
    },
    {
      "cell_type": "markdown",
      "metadata": {
        "id": "XAShUFRpQJt7"
      },
      "source": [
        "** Given the variables:**\n",
        "\n",
        "    planet = \"Earth\"\n",
        "    diameter = 12742\n",
        "\n",
        "** Use .format() to print the following string: **\n",
        "\n",
        "    The diameter of Earth is 12742 kilometers."
      ]
    },
    {
      "cell_type": "code",
      "execution_count": 5,
      "metadata": {
        "id": "LU3iNVUIQJt9"
      },
      "outputs": [],
      "source": [
        "planet = \"Earth\"\n",
        "diameter = 12742"
      ]
    },
    {
      "cell_type": "code",
      "execution_count": 6,
      "metadata": {
        "id": "J6rjkMKOQJt_",
        "outputId": "21ea8003-cf22-4fd7-a19a-9b20e21b1861",
        "colab": {
          "base_uri": "https://localhost:8080/"
        }
      },
      "outputs": [
        {
          "output_type": "stream",
          "name": "stdout",
          "text": [
            "The diameter of Earth is 12742 kilometer\n"
          ]
        }
      ],
      "source": [
        "print('The diameter of {} is {} kilometer'.format(planet,diameter))"
      ]
    },
    {
      "cell_type": "markdown",
      "metadata": {
        "id": "ughIjEVmQJuA"
      },
      "source": [
        "** Given this nested list, use indexing to grab the word \"hello\" **"
      ]
    },
    {
      "cell_type": "code",
      "execution_count": 9,
      "metadata": {
        "id": "CICK3SenQJuB"
      },
      "outputs": [],
      "source": [
        "lst = [1,2,[3,4],[5,[100,200,['hello']],23,11],1,7]"
      ]
    },
    {
      "cell_type": "code",
      "execution_count": 10,
      "metadata": {
        "id": "bzy0iB1gQJuD",
        "outputId": "dd0a5167-4830-4758-fe26-9878c50b3ee9",
        "colab": {
          "base_uri": "https://localhost:8080/"
        }
      },
      "outputs": [
        {
          "output_type": "stream",
          "name": "stdout",
          "text": [
            "hello\n"
          ]
        }
      ],
      "source": [
        "print(lst[3][1][2][0])"
      ]
    },
    {
      "cell_type": "markdown",
      "metadata": {
        "id": "KvZZ9uOAQJuD"
      },
      "source": [
        "** Given this nested dictionary grab the word \"hello\". Be prepared, this will be annoying/tricky **"
      ]
    },
    {
      "cell_type": "code",
      "execution_count": 49,
      "metadata": {
        "id": "6UYjb58KQJuE"
      },
      "outputs": [],
      "source": [
        "d = {'k1':[1,2,3,{'tricky':['oh','man','inception',{'target':[1,2,3,'hello']}]}]}"
      ]
    },
    {
      "cell_type": "code",
      "execution_count": 12,
      "metadata": {
        "id": "qEHcy_WhQJuE",
        "outputId": "e0ad6ada-d523-4566-bb10-71c471a5f048",
        "colab": {
          "base_uri": "https://localhost:8080/"
        }
      },
      "outputs": [
        {
          "output_type": "stream",
          "name": "stdout",
          "text": [
            "hello\n"
          ]
        }
      ],
      "source": [
        "print(d['k1'][3]['tricky'][3]['target'][3])"
      ]
    },
    {
      "cell_type": "markdown",
      "source": [
        "** What is the main difference between a tuple and a list? **"
      ],
      "metadata": {
        "id": "Netp9lpoyKNw"
      }
    },
    {
      "cell_type": "code",
      "execution_count": 14,
      "metadata": {
        "collapsed": true,
        "id": "bybmMa7sQJuF"
      },
      "outputs": [],
      "source": [
        "# Tuple is immutable while list is mutable\n",
        "# Tuple\n",
        "#t = (1, 2, 3)\n",
        "# t[0] = 10  # This will cause an error\n",
        "\n",
        "# List\n",
        "#l = [1, 2, 3]\n",
        "#l[0] = 10  # This works fine\n"
      ]
    },
    {
      "cell_type": "markdown",
      "metadata": {
        "id": "YlhiTKVdQJuG"
      },
      "source": [
        "** Create a function that grabs the email website domain from a string in the form: **\n",
        "\n",
        "    user@domain.com\n",
        "    \n",
        "**So for example, passing \"user@domain.com\" would return: domain.com**"
      ]
    },
    {
      "cell_type": "code",
      "execution_count": 20,
      "metadata": {
        "id": "97fbiFEDQJuH"
      },
      "outputs": [],
      "source": [
        "email=\"user@domain.com\"\n",
        "def fun1(email):\n",
        "    print(email.split('@')[-1])"
      ]
    },
    {
      "cell_type": "code",
      "execution_count": 22,
      "metadata": {
        "id": "Ntnzy8_WQJuH",
        "outputId": "fc993181-03d9-425e-e54e-1b1c80f6618b",
        "colab": {
          "base_uri": "https://localhost:8080/"
        }
      },
      "outputs": [
        {
          "output_type": "stream",
          "name": "stdout",
          "text": [
            "domain.com\n"
          ]
        }
      ],
      "source": [
        "fun1(email)"
      ]
    },
    {
      "cell_type": "markdown",
      "metadata": {
        "id": "gwiE_tcKQJuH"
      },
      "source": [
        "** Create a basic function that returns True if the word 'dog' is contained in the input string. Don't worry about edge cases like a punctuation being attached to the word dog, but do account for capitalization. **"
      ]
    },
    {
      "cell_type": "code",
      "execution_count": 50,
      "metadata": {
        "collapsed": true,
        "id": "D-R4e4EnQJuI"
      },
      "outputs": [],
      "source": [
        "def findDog(sentence):\n",
        "    word=sentence.split()\n",
        "    for v in word :\n",
        "      return \"dog\" in word\n",
        "\n"
      ]
    },
    {
      "cell_type": "code",
      "execution_count": 51,
      "metadata": {
        "id": "2b4jgFPOQJuI",
        "outputId": "037e1e0e-69e1-4f8b-abcf-63e851534adf",
        "colab": {
          "base_uri": "https://localhost:8080/"
        }
      },
      "outputs": [
        {
          "output_type": "execute_result",
          "data": {
            "text/plain": [
              "True"
            ]
          },
          "metadata": {},
          "execution_count": 51
        }
      ],
      "source": [
        "findDog('Is there a dog here?')"
      ]
    },
    {
      "cell_type": "markdown",
      "metadata": {
        "id": "w3UV5uuaQJuJ"
      },
      "source": [
        "** Create a function that counts the number of times the word \"dog\" occurs in a string. Again ignore edge cases. **"
      ]
    },
    {
      "cell_type": "code",
      "execution_count": 52,
      "metadata": {
        "id": "5oMhr3-qQJuJ"
      },
      "outputs": [],
      "source": [
        "def countDog(sentence):\n",
        "    count=0\n",
        "    word=sentence.split()\n",
        "    for v in word :\n",
        "      if v == 'dog':\n",
        "            count += 1\n",
        "    return count"
      ]
    },
    {
      "cell_type": "code",
      "execution_count": 53,
      "metadata": {
        "id": "1HxTPIaLQJuJ",
        "outputId": "c2415cf7-b957-434f-e746-2bc317fa7a73",
        "colab": {
          "base_uri": "https://localhost:8080/"
        }
      },
      "outputs": [
        {
          "output_type": "execute_result",
          "data": {
            "text/plain": [
              "2"
            ]
          },
          "metadata": {},
          "execution_count": 53
        }
      ],
      "source": [
        "countDog('This dog runs faster than the other dog dude!')"
      ]
    },
    {
      "cell_type": "markdown",
      "metadata": {
        "id": "ncs1mE9SQJuK"
      },
      "source": [
        "** Use lambda expressions and the filter() function to filter out words from a list that don't start with the letter 's'. For example:**\n",
        "\n",
        "    seq = ['soup','dog','salad','cat','great']\n",
        "\n",
        "**should be filtered down to:**\n",
        "\n",
        "    ['soup','salad']"
      ]
    },
    {
      "cell_type": "code",
      "execution_count": 54,
      "metadata": {
        "collapsed": true,
        "id": "DFR_5vgPQJuL"
      },
      "outputs": [],
      "source": [
        "seq = ['soup','dog','salad','cat','great']"
      ]
    },
    {
      "cell_type": "code",
      "execution_count": 57,
      "metadata": {
        "id": "IbPc-SK-QJuL",
        "outputId": "26fd4ac5-0e1c-44c4-9e7c-dc16c7f13d83",
        "colab": {
          "base_uri": "https://localhost:8080/"
        }
      },
      "outputs": [
        {
          "output_type": "execute_result",
          "data": {
            "text/plain": [
              "['soup', 'salad']"
            ]
          },
          "metadata": {},
          "execution_count": 57
        }
      ],
      "source": [
        "a = lambda v:v.startswith('s')\n",
        "list(filter(a,seq))\n"
      ]
    },
    {
      "cell_type": "markdown",
      "metadata": {
        "id": "WZB9cYH-QJuM"
      },
      "source": [
        "### Final Problem\n",
        "**You are driving a little too fast, and a police officer stops you. Write a function\n",
        "  to return one of 3 possible results: \"No ticket\", \"Small ticket\", or \"Big Ticket\".\n",
        "  If your speed is 60 or less, the result is \"No Ticket\". If speed is between 61\n",
        "  and 80 inclusive, the result is \"Small Ticket\". If speed is 81 or more, the result is \"Big    Ticket\". Unless it is your birthday (encoded as a boolean value in the parameters of the function) -- on your birthday, your speed can be 5 higher in all\n",
        "  cases. **"
      ]
    },
    {
      "cell_type": "code",
      "execution_count": 58,
      "metadata": {
        "collapsed": true,
        "id": "MF56ggOQQJuM"
      },
      "outputs": [],
      "source": [
        "def ticket(speed,bday):\n",
        "  if speed <=60 or bday and speed<=65:\n",
        "      return 'no ticket'\n",
        "  elif speed >60 and speed<80 or bday and speed>65 and speed<85:\n",
        "      return 'small ticket'\n",
        "  elif speed >=80 or bday and speed>=85:\n",
        "      return 'big ticket'"
      ]
    },
    {
      "cell_type": "code",
      "execution_count": 60,
      "metadata": {
        "id": "3QU9IrRmQJuN",
        "outputId": "dc761632-473f-463b-f690-f63d740bcd01",
        "colab": {
          "base_uri": "https://localhost:8080/",
          "height": 36
        }
      },
      "outputs": [
        {
          "output_type": "execute_result",
          "data": {
            "text/plain": [
              "'small ticket'"
            ],
            "application/vnd.google.colaboratory.intrinsic+json": {
              "type": "string"
            }
          },
          "metadata": {},
          "execution_count": 60
        }
      ],
      "source": [
        "ticket(81,True)"
      ]
    },
    {
      "cell_type": "code",
      "execution_count": 62,
      "metadata": {
        "id": "1lsXiwFSQJuO",
        "outputId": "3b342135-bebb-427d-9e5e-d58f028b95a8",
        "colab": {
          "base_uri": "https://localhost:8080/",
          "height": 36
        }
      },
      "outputs": [
        {
          "output_type": "execute_result",
          "data": {
            "text/plain": [
              "'big ticket'"
            ],
            "application/vnd.google.colaboratory.intrinsic+json": {
              "type": "string"
            }
          },
          "metadata": {},
          "execution_count": 62
        }
      ],
      "source": [
        "ticket(81,False)"
      ]
    },
    {
      "cell_type": "code",
      "execution_count": null,
      "metadata": {
        "id": "8Ckci1sCQJuO"
      },
      "outputs": [],
      "source": [
        "Question\n",
        "Q1\n",
        "Given a string print number num by extracting all the\n",
        "digits from the string as in string\n",
        "Print negative number if the first character in\n",
        "string is '-'\n",
        "eg.\n",
        "-123abcd should return -123,abcd456-->456,fdhfh78dsd89--->7889,-56dssd78-->-5678"
      ]
    },
    {
      "cell_type": "code",
      "source": [
        "inp = input(\"Enter a input value\")\n",
        "result = \"\"\n",
        "\n",
        "if inp[0] == '-':\n",
        "  result += inp[0]\n",
        "\n",
        "for ele in inp[1:]:\n",
        "  if '0' <= ele <= '9':\n",
        "    result += ele\n",
        "\n",
        "print(result)"
      ],
      "metadata": {
        "colab": {
          "base_uri": "https://localhost:8080/"
        },
        "id": "uYvyjeE21Beq",
        "outputId": "e6ec368b-6d27-46a9-ce4a-914907e70b10"
      },
      "execution_count": 63,
      "outputs": [
        {
          "output_type": "stream",
          "name": "stdout",
          "text": [
            "Enter a input value-113j\n",
            "-113\n"
          ]
        }
      ]
    },
    {
      "cell_type": "code",
      "execution_count": null,
      "metadata": {
        "id": "Aoj2DERXQJuP"
      },
      "outputs": [],
      "source": [
        "Q2\n",
        "WAP to check whether a number is palindrome or not on following conditions.\n",
        "1. take input number\n",
        "2. add number and its reverse\n",
        "3. check that number is palindrome or not,if not then sum and its reverse"
      ]
    },
    {
      "cell_type": "code",
      "source": [
        "def is_palindrome(n):\n",
        "    return str(n) == str(n)[::-1]\n",
        "\n",
        "def make_palindrome(n):\n",
        "    while not is_palindrome(n):\n",
        "        reverse_n = int(str(n)[::-1])\n",
        "        n = n + reverse_n\n",
        "        print(f\"Current sum: {n}\")  # To track each step\n",
        "    return n\n",
        "\n",
        "num = int(input(\"Enter a number: \"))\n",
        "palindrome_num = make_palindrome(num)\n",
        "print(f\"Palindrome number: {palindrome_num}\")\n"
      ],
      "metadata": {
        "colab": {
          "base_uri": "https://localhost:8080/"
        },
        "id": "gNmCJF8i1TE9",
        "outputId": "4f9b4b83-df5a-4880-d67d-cdc1f23733ce"
      },
      "execution_count": 66,
      "outputs": [
        {
          "output_type": "stream",
          "name": "stdout",
          "text": [
            "Enter a number: 45665\n",
            "Current sum: 102319\n",
            "Current sum: 1015520\n",
            "Current sum: 1270621\n",
            "Current sum: 2531342\n",
            "Current sum: 4962694\n",
            "Palindrome number: 4962694\n"
          ]
        }
      ]
    },
    {
      "cell_type": "code",
      "execution_count": null,
      "metadata": {
        "id": "82LZn3ZNQJuP"
      },
      "outputs": [],
      "source": [
        "Write a python function to find and display the five\n",
        "digit number in which the first digit is two more than\n",
        "the second,the second digit is two more than the third,\n",
        "the fourth digit is two less than the third, and the\n",
        "last digit is two more than\n",
        "the fourth.The sum of the third,fourth and fifth digits\n",
        "equals the first.The sum of all the digits is 19"
      ]
    },
    {
      "cell_type": "code",
      "execution_count": 67,
      "metadata": {
        "id": "z1mWzCN4QJuQ",
        "colab": {
          "base_uri": "https://localhost:8080/"
        },
        "outputId": "d1392ec0-1345-4e78-cb94-eff473c7a286"
      },
      "outputs": [
        {
          "output_type": "stream",
          "name": "stdout",
          "text": [
            "75313\n"
          ]
        }
      ],
      "source": [
        "def find_five_digit():\n",
        "  for a in range(1, 10):\n",
        "    for b in range(0, 10):\n",
        "      for c in range(0, 10):\n",
        "        for d in range(0, 10):\n",
        "          for e in range(0, 10):\n",
        "            if a == b + 2 and b == c + 2 and d == c - 2 and e == d + 2 and c + d + e == a and a + b + c + d + e == 19:\n",
        "              print(str(a) + str(b) + str(c) + str(d) + str(e))\n",
        "              return\n",
        "\n",
        "find_five_digit()\n"
      ]
    },
    {
      "cell_type": "markdown",
      "metadata": {
        "id": "HQI8SaqWQJuR"
      },
      "source": [
        "# Great job!"
      ]
    }
  ],
  "metadata": {
    "colab": {
      "provenance": [],
      "include_colab_link": true
    },
    "kernelspec": {
      "display_name": "Python 3 (ipykernel)",
      "language": "python",
      "name": "python3"
    },
    "language_info": {
      "codemirror_mode": {
        "name": "ipython",
        "version": 3
      },
      "file_extension": ".py",
      "mimetype": "text/x-python",
      "name": "python",
      "nbconvert_exporter": "python",
      "pygments_lexer": "ipython3",
      "version": "3.10.9"
    }
  },
  "nbformat": 4,
  "nbformat_minor": 0
}